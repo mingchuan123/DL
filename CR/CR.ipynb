{
 "cells": [
  {
   "cell_type": "code",
   "execution_count": 1,
   "metadata": {
    "collapsed": false
   },
   "outputs": [
    {
     "name": "stdout",
     "output_type": "stream",
     "text": [
      "\n",
      "Stats of batch 1:\n",
      "Samples: 10000\n",
      "Label Counts: {0: 1005, 1: 974, 2: 1032, 3: 1016, 4: 999, 5: 937, 6: 1030, 7: 1001, 8: 1025, 9: 981}\n",
      "First 20 Labels: [6, 9, 9, 4, 1, 1, 2, 7, 8, 3, 4, 7, 7, 2, 9, 9, 9, 3, 2, 6]\n",
      "\n",
      "Example of Image 5:\n",
      "Image - Min Value: 0 Max Value: 252\n",
      "Image - Shape: (32, 32, 3)\n",
      "Label - Label Id: 1 Name: automobile\n"
     ]
    },
    {
     "data": {
      "image/png": "[encoded data removed]",
      "text/plain": [
       "<matplotlib.figure.Figure at 0x108155748>"
      ]
     },
     "metadata": {
      "image/png": {
       "height": 250,
       "width": 253
      }
     },
     "output_type": "display_data"
    }
   ],
   "source": [
    "%matplotlib inline\n",
    "%config InlineBackend.figure_format = 'retina'\n",
    "\n",
    "import helper\n",
    "import numpy as np\n",
    "\n",
    "cifar10_dataset_folder_path = 'cifar-10-batches-py'\n",
    "# Explore the dataset\n",
    "batch_id = 1\n",
    "sample_id = 5\n",
    "helper.display_stats(cifar10_dataset_folder_path, batch_id, sample_id)"
   ]
  },
  {
   "cell_type": "code",
   "execution_count": 2,
   "metadata": {
    "collapsed": false
   },
   "outputs": [],
   "source": [
    "def normalize(x):\n",
    "    \n",
    "    return np.array(x/255.0)\n",
    "\n",
    "\n",
    "def one_hot_encode(x):\n",
    "\n",
    "    encoding = np.zeros((len(x),10))\n",
    "    encoding[np.arange(len(x)),x] = 1\n",
    "    return encoding\n",
    "\n",
    "\n",
    "helper.preprocess_and_save_data(cifar10_dataset_folder_path, normalize, one_hot_encode)\n",
    "\n",
    "\n",
    "import pickle\n",
    "#import problem_unittests as tests\n",
    "import helper\n",
    "\n",
    "\n",
    "# Load the Preprocessed Validation data\n",
    "valid_features, valid_labels = pickle.load(open('preprocess_validation.p', mode='rb'))\n",
    "test_features, test_labels = pickle.load(open('preprocess_training.p', mode='rb'))\n"
   ]
  },
  {
   "cell_type": "code",
   "execution_count": 3,
   "metadata": {
    "collapsed": false
   },
   "outputs": [],
   "source": [
    "import tensorflow as tf\n",
    "from tensorflow.examples.tutorials.mnist import input_data\n",
    "from tensorflow.contrib import rnn\n",
    "tf.reset_default_graph()\n",
    "\n",
    "epoches = 10\n",
    "classes = 10\n",
    "batch_size = 128\n",
    "hidden_num = 8\n",
    "n_batches = 5\n",
    "\n",
    "#x = tf.placeholder(tf.float32,[None,32,32,3])\n",
    "x = tf.placeholder(tf.float32,[None,32,32,3])\n",
    "y = tf.placeholder(tf.float32,[None,classes])\n",
    "\n",
    "#print(x)\n",
    "#y = tf.placeholder(tf.float32,[None,classes])\n",
    "#print(y)\n",
    "keep_prob = tf.placeholder(tf.float32)\n",
    "\n",
    "def conv(x,W,strides):\n",
    "    return tf.nn.conv2d(x,W,strides,padding = 'SAME')\n",
    "\n",
    "def maxpool(x,ksize,strides):\n",
    "    return tf.nn.max_pool(x,ksize,strides,padding='SAME' )\n",
    "\n",
    "def convolutional_neural_network(x,keep_prob):\n",
    "    weights_conv_1 = tf.Variable(tf.truncated_normal([2,2,3,8], stddev = 0.1))\n",
    "    weights_conv_2 = tf.Variable(tf.truncated_normal([3,3,8,16], stddev = 0.1))\n",
    "    weights_conv_3 = tf.Variable(tf.truncated_normal([4,4,16,32], stddev = 0.1))\n",
    "    weights_full = tf.Variable(tf.truncated_normal([4*4*32, 1024], stddev = 0.1))\n",
    "    #weights_full = tf.Variable(tf.truncated_normal([hidden_num, 1024], stddev = 0.1))\n",
    "    weights_out = tf.Variable(tf.random_normal([1024,classes], stddev = 0.1))\n",
    "    \n",
    "    bias_conv_1 = tf.Variable(tf.zeros([8]))\n",
    "    bias_conv_2 = tf.Variable(tf.zeros([16]))\n",
    "    bias_conv_3 = tf.Variable(tf.zeros([32]))\n",
    "    bias_full = tf.Variable(tf.zeros([1024]))\n",
    "    bias_out = tf.Variable(tf.zeros([classes]))\n",
    "\n",
    "    x = tf.reshape(x, shape = [-1,32,32,3])\n",
    "    conv_1 = conv(x,weights_conv_1,[1,1,1,1])\n",
    "    conv_1 = maxpool(conv_1,[1,2,2,1],[1,2,2,1])\n",
    "    #print(conv_1.shape)\n",
    "\n",
    "    conv_2 = conv(conv_1,weights_conv_2,[1,1,1,1])\n",
    "    conv_2 = maxpool(conv_2,[1,2,2,1],[1,2,2,1])\n",
    "    #print(conv_2.shape)\n",
    "    \n",
    "    conv_3 = conv(conv_2,weights_conv_3,[1,1,1,1])\n",
    "    conv_3 = maxpool(conv_3,[1,2,2,1],[1,2,2,1])\n",
    "    print(conv_3)\n",
    "    \n",
    "    \n",
    "    dim = conv_3.get_shape().as_list()\n",
    "    #print(dim)\n",
    "    conv_f = tf.reshape(conv_3,[-1,dim[1]*dim[2]*dim[3]])\n",
    "    #print(conv_f.shape)\n",
    "    conv_f = tf.nn.relu(tf.matmul(conv_f,weights_full) + bias_full)\n",
    "    conv_f = tf.nn.relu(conv_f)\n",
    "    conv_f = tf.nn.dropout(conv_f,keep_prob)\n",
    "    #print(conv_f.shape)\n",
    "\n",
    "    conv_o = tf.nn.relu(tf.matmul(conv_f,weights_out) + bias_out)\n",
    "    conv_o = tf.nn.dropout(conv_o,keep_prob)\n",
    "    #print(conv_o.shape)\n",
    "    return conv_o,conv_3"
   ]
  },
  {
   "cell_type": "code",
   "execution_count": 4,
   "metadata": {
    "collapsed": true
   },
   "outputs": [],
   "source": [
    "r_x = tf.placeholder(tf.float32,[None,4,4,32])\n",
    "r_keep_prob = tf.placeholder(tf.float32)\n",
    "\n",
    "r_y = tf.placeholder(tf.float32,[None,10])\n",
    "\n",
    "\n",
    "def recurrent_neural_network(r_x,r_keep_prob):    \n",
    "    dim = r_x.get_shape().as_list()\n",
    "    print(dim)\n",
    "    recurrent_input = tf.reshape(r_x,[-1,dim[1],dim[2]*dim[3]])\n",
    "    #recurrent_input = tf.reshape(x,[128,4,128])\n",
    "    \n",
    "    weights_full = tf.Variable(tf.truncated_normal([hidden_num, 1024], stddev = 0.1))\n",
    "    bias_full = tf.Variable(tf.zeros([1024]))\n",
    "\n",
    "    weights_out = tf.Variable(tf.random_normal([1024,classes], stddev = 0.1))\n",
    "    bias_out = tf.Variable(tf.zeros([classes]))\n",
    "    \n",
    "    data = tf.transpose(recurrent_input,[0,2,1])\n",
    "    cell = rnn.LSTMCell(hidden_num,state_is_tuple = True)\n",
    "    cell = rnn.DropoutWrapper(cell,r_keep_prob)\n",
    "    value, state = tf.nn.dynamic_rnn(cell,data,dtype = tf.float32)\n",
    "    value = tf.transpose(value,[1,0,2])\n",
    "    last_val = tf.gather(value, int(value.get_shape()[0]) - 1)\n",
    "    \n",
    "    recc_f = tf.nn.relu(tf.matmul(last_val,weights_full) + bias_full)\n",
    "    \n",
    "    recc_o = tf.nn.relu(tf.matmul(recc_f,weights_out) + bias_out)\n",
    "\n",
    "    return recc_o"
   ]
  },
  {
   "cell_type": "code",
   "execution_count": null,
   "metadata": {
    "collapsed": false
   },
   "outputs": [
    {
     "name": "stdout",
     "output_type": "stream",
     "text": [
      "Tensor(\"MaxPool_2:0\", shape=(?, 4, 4, 32), dtype=float32)\n",
      "Epoch 0 complete out of 10 loss: 659.474973083\n",
      "Accuracy: 0.5312\n",
      "Epoch 1 complete out of 10 loss: 527.733355761\n",
      "Accuracy: 0.583\n",
      "Epoch 2 complete out of 10 loss: 479.500790536\n",
      "Accuracy: 0.6056\n",
      "Epoch 3 complete out of 10 loss: 450.010113895\n",
      "Accuracy: 0.6234\n",
      "Epoch 4 complete out of 10 loss: 422.321885347\n",
      "Accuracy: 0.6398\n",
      "Epoch 5 complete out of 10 loss: 397.913194478\n",
      "Accuracy: 0.6404\n",
      "Epoch 6 complete out of 10 loss: 374.683700413\n",
      "Accuracy: 0.6424\n",
      "Epoch 7 complete out of 10 loss: 358.992618054\n",
      "Accuracy: 0.6514\n",
      "Epoch 8 complete out of 10 loss: 339.265804768\n",
      "Accuracy: 0.651\n",
      "Epoch 9 complete out of 10 loss: 318.713316381\n",
      "Accuracy: 0.6556\n",
      "Accuracy: 0.6463\n"
     ]
    }
   ],
   "source": [
    "def train(x,keep_prob):\n",
    "    prediction,features = convolutional_neural_network(x,keep_prob)\n",
    "    cost = tf.reduce_mean(tf.nn.softmax_cross_entropy_with_logits(logits = prediction,labels = y))\n",
    "    optimizer = tf.train.AdamOptimizer().minimize(cost)\n",
    "    featureset = []\n",
    "    #featureset_valid = []\n",
    "\n",
    "    with tf.Session() as sess:\n",
    "\n",
    "        sess.run(tf.global_variables_initializer())\n",
    "        tf.set_random_seed(1000)\n",
    "\n",
    "        for epoch in range(epoches):\n",
    "            loss = 0\n",
    "            n_batches = 5\n",
    "            #for _ in range(int(mnist.train.num_examples/batch_size)):\n",
    "            #for batch_i in range(1, n_batches+1):\n",
    "\n",
    "            for batch_i in range(1, n_batches+1):\n",
    "                for batch_features, batch_labels in helper.load_preprocess_training_batch(batch_i, batch_size):\n",
    "                    #epoch_x = epoch_x.reshape((batch_size,chunks,chunk_size))\n",
    "                    _,c = sess.run([optimizer,cost],feed_dict = {x: batch_features, y: batch_labels, keep_prob: 0.9})\n",
    "                    features_n = features.eval({x: batch_features, y: batch_labels, keep_prob: 0.9})\n",
    "                    \n",
    "                    features_n = np.array(features_n,dtype=np.float32)\n",
    "                    \n",
    "                    featureset.append(features_n)\n",
    "                    loss += c\n",
    "            print('Epoch',epoch,'complete out of',epoches,'loss:',loss)\n",
    "            #print(prediction.shape)\n",
    "            features_valid = features.eval({x: valid_features, y: valid_labels, keep_prob: 1.0})\n",
    "            \n",
    "            correct = tf.equal(tf.argmax(prediction,1),tf.argmax(y,1))\n",
    "            accuracy = tf.reduce_mean(tf.cast(correct,'float'))\n",
    "            print('Accuracy:',accuracy.eval({x: valid_features, y: valid_labels, keep_prob: 1.0}))\n",
    "            \n",
    "            \n",
    "\n",
    "        print('Accuracy:',accuracy.eval({x: test_features, y: test_labels, keep_prob: 1.0}))\n",
    "        #featureset = np.array(featureset[-5:])\n",
    "        return featureset,features_valid\n",
    "\n",
    "        \n",
    "c_out,c_valid = train(x,keep_prob)"
   ]
  },
  {
   "cell_type": "code",
   "execution_count": null,
   "metadata": {
    "collapsed": false
   },
   "outputs": [
    {
     "name": "stdout",
     "output_type": "stream",
     "text": [
      "[None, 4, 4, 32]\n"
     ]
    },
    {
     "name": "stderr",
     "output_type": "stream",
     "text": [
      "/Users/zhaomingchuan/anaconda3/lib/python3.6/site-packages/tensorflow/python/ops/gradients_impl.py:91: UserWarning: Converting sparse IndexedSlices to a dense Tensor of unknown shape. This may consume a large amount of memory.\n",
      "  \"Converting sparse IndexedSlices to a dense Tensor of unknown shape. \"\n"
     ]
    },
    {
     "name": "stdout",
     "output_type": "stream",
     "text": [
      "Epoch 0 complete out of 10 loss: 803.550757885\n",
      "Accuracy: 0.1642\n",
      "Epoch 1 complete out of 10 loss: 804.824974537\n",
      "Accuracy: 0.1454\n",
      "Epoch 2 complete out of 10 loss: 801.055309057\n",
      "Accuracy: 0.1478\n",
      "Epoch 3 complete out of 10 loss: 799.746410608\n",
      "Accuracy: 0.1464\n",
      "Epoch 4 complete out of 10 loss: 797.562066078\n",
      "Accuracy: 0.144\n",
      "Epoch 5 complete out of 10 loss: 795.892113924\n",
      "Accuracy: 0.151\n",
      "Epoch 6 complete out of 10 loss: 794.068750858\n",
      "Accuracy: 0.158\n",
      "Epoch 7 complete out of 10 loss: 785.784734964\n",
      "Accuracy: 0.182\n",
      "Epoch 8 complete out of 10 loss: 782.8654809\n",
      "Accuracy: 0.183\n",
      "Epoch 9 complete out of 10 loss: 779.712507248\n",
      "Accuracy: 0.1812\n",
      "Epoch 10 complete out of 10 loss: 775.076630831\n",
      "Accuracy: 0.1846\n",
      "Epoch 11 complete out of 10 loss: 770.954980373\n",
      "Accuracy: 0.1776\n",
      "Epoch 12 complete out of 10 loss: 769.149760962\n",
      "Accuracy: 0.175\n",
      "Epoch 13 complete out of 10 loss: 767.66845417\n",
      "Accuracy: 0.1732\n"
     ]
    }
   ],
   "source": [
    "def r_train(data,valid_data,r_x,r_keep_prob):\n",
    "    #data = train(x,keep_prob)\n",
    "    n_batches = 5\n",
    "    r_epoches = 15\n",
    "    r_prediction = recurrent_neural_network(r_x,r_keep_prob)\n",
    "    \n",
    "    r_cost = tf.reduce_mean(tf.nn.softmax_cross_entropy_with_logits(logits = r_prediction,labels = r_y))\n",
    "    r_optimizer = tf.train.AdamOptimizer().minimize(r_cost)\n",
    "    \n",
    "    with tf.Session() as r_sess:\n",
    "        r_sess.run(tf.global_variables_initializer())\n",
    "        #sess.run(data.eval())\n",
    "        #data = sess.run(data)\n",
    "        for epoch in range(r_epoches):\n",
    "            loss = 0\n",
    "            i = 0\n",
    "            #for batch_i in range(1, n_batches + 1):\n",
    "            for batch_i in range(1, n_batches+1):\n",
    "                for batch_features, batch_labels in helper.load_preprocess_training_batch(batch_i, batch_size):\n",
    "\n",
    "                    data_in = data[i]\n",
    "                    _,c = r_sess.run([r_optimizer,r_cost],feed_dict = {r_x: data_in, r_y: batch_labels, r_keep_prob: 0.9})\n",
    "                    loss += c\n",
    "                    i += 1\n",
    "    \n",
    "            print('Epoch',epoch,'complete out of',epoches,'loss:',loss)\n",
    "            #print(r_prediction.shape)\n",
    "            correct = tf.equal(tf.argmax(r_prediction,1),tf.argmax(r_y,1))\n",
    "            accuracy = tf.reduce_mean(tf.cast(correct,'float'))\n",
    "            print('Accuracy:',accuracy.eval({r_x: valid_data, r_y: valid_labels, r_keep_prob: 1.0}))    \n",
    "        \n",
    "        \n",
    "r_train(c_out,c_valid,r_x,r_keep_prob)"
   ]
  },
  {
   "cell_type": "code",
   "execution_count": null,
   "metadata": {
    "collapsed": true
   },
   "outputs": [],
   "source": []
  },
  {
   "cell_type": "code",
   "execution_count": null,
   "metadata": {
    "collapsed": true
   },
   "outputs": [],
   "source": []
  },
  {
   "cell_type": "code",
   "execution_count": null,
   "metadata": {
    "collapsed": true
   },
   "outputs": [],
   "source": []
  },
  {
   "cell_type": "code",
   "execution_count": null,
   "metadata": {
    "collapsed": true
   },
   "outputs": [],
   "source": []
  },
  {
   "cell_type": "code",
   "execution_count": null,
   "metadata": {
    "collapsed": true
   },
   "outputs": [],
   "source": []
  },
  {
   "cell_type": "code",
   "execution_count": null,
   "metadata": {
    "collapsed": false
   },
   "outputs": [],
   "source": [
    "data = train(x,keep_prob)\n",
    "print(data)\n",
    "#r_x = tf.placeholder(tf.float32)\n",
    "#print(r_x)\n",
    "#r_keep_prob = tf.placeholder(tf.float32)\n",
    "#print(r_keep_prob)\n",
    "#r_y = tf.placeholder(tf.float32,[None,10])\n",
    "n_batches = 5\n",
    "r_epoches = 5\n",
    "prediction = recurrent_neural_network(r_x,keep_prob)\n",
    "\n",
    "cost = tf.reduce_mean(tf.nn.softmax_cross_entropy_with_logits(logits = prediction,labels = y))\n",
    "optimizer = tf.train.AdamOptimizer().minimize(cost)\n",
    "\n",
    "with tf.Session() as sess:\n",
    "    sess.run(tf.global_variables_initializer())\n",
    "    #sess.run(data.eval())\n",
    "    #data = sess.run(data)\n",
    "    for epoch in range(r_epoches):\n",
    "        loss = 0\n",
    "        for batch_i in range(1, n_batches + 1):\n",
    "            for batch_features, batch_labels in helper.load_preprocess_training_batch(batch_i, batch_size):\n",
    "                data_in = data[batch_i]\n",
    "                #TensorArr = tf.TensorArray(tf.float32, 1, dynamic_size=True, infer_shape=False)\n",
    "                #data_in = TensorArr.unstack(data[batch_i])\n",
    "                #data[batch_i].set_shape([len(batch_labels),4,4,32])\n",
    "                #data_in = tf.unstack(data[batch_i])\n",
    "                #data_in.eval()\n",
    "                #data_in = tf.TensorArray.read(index = batch_i,name = data)\n",
    "                #epoch_x = epoch_x.reshape((batch_size,chunks,chunk_size))\n",
    "                #data_in = tf.unstack(data[batch_i],axis=0)\n",
    "                data_in = sess.run(data_in)\n",
    "                _,c = sess.run([optimizer,cost],feed_dict = {r_x: data_in, r_y: batch_labels, r_keep_prob: 0.9})\n",
    "                loss += c\n",
    "    \n",
    "        print('Epoch',epoch,'complete out of',epoches,'loss:',loss)\n",
    "        print(prediction.shape)\n",
    "        correct = tf.equal(tf.argmax(prediction,1),tf.argmax(y,1))\n",
    "        accuracy = tf.reduce_mean(tf.cast(correct,'float'))\n",
    "        print('Accuracy:',accuracy.eval({x: valid_features, y: valid_labels, keep_prob: 1.0}))    "
   ]
  }
 ],
 "metadata": {
  "kernelspec": {
   "display_name": "Python 3",
   "language": "python",
   "name": "python3"
  },
  "language_info": {
   "codemirror_mode": {
    "name": "ipython",
    "version": 3
   },
   "file_extension": ".py",
   "mimetype": "text/x-python",
   "name": "python",
   "nbconvert_exporter": "python",
   "pygments_lexer": "ipython3",
   "version": "3.6.0"
  }
 },
 "nbformat": 4,
 "nbformat_minor": 2
}
