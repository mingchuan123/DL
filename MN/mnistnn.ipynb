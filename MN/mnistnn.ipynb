{
 "cells": [
  {
   "cell_type": "code",
   "execution_count": 677,
   "metadata": {
    "collapsed": false
   },
   "outputs": [
    {
     "name": "stdout",
     "output_type": "stream",
     "text": [
      "[5 0 4 1 9 2 1 3 1 4]\n"
     ]
    }
   ],
   "source": [
    "import numpy as np\n",
    "from data_utils import DataUtils\n",
    "\n",
    "trainfile_X = 'train-images-idx3-ubyte'\n",
    "trainfile_y = 'train-labels-idx1-ubyte'\n",
    "testfile_X = 't10k-images-idx3-ubyte'\n",
    "testfile_y = 't10k-labels-idx1-ubyte'\n",
    "        \n",
    "train_X = DataUtils(filename=trainfile_X).getImage()\n",
    "train_y = DataUtils(filename=trainfile_y).getLabel()\n",
    "test_X = DataUtils(testfile_X).getImage()\n",
    "test_y = DataUtils(testfile_y).getLabel()\n",
    "print(train_y[0:10])"
   ]
  },
  {
   "cell_type": "code",
   "execution_count": 678,
   "metadata": {
    "collapsed": false
   },
   "outputs": [],
   "source": [
    "def normalize(x):\n",
    "    \n",
    "    encoding = np.zeros((len(x),10))\n",
    "    encoding[np.arange(len(x)),x] = 1\n",
    "    return encoding"
   ]
  },
  {
   "cell_type": "code",
   "execution_count": 679,
   "metadata": {
    "collapsed": false,
    "scrolled": true
   },
   "outputs": [
    {
     "name": "stdout",
     "output_type": "stream",
     "text": [
      "[[ 0.  0.  0.  0.  0.  1.  0.  0.  0.  0.]\n",
      " [ 1.  0.  0.  0.  0.  0.  0.  0.  0.  0.]\n",
      " [ 0.  0.  0.  0.  1.  0.  0.  0.  0.  0.]\n",
      " [ 0.  1.  0.  0.  0.  0.  0.  0.  0.  0.]\n",
      " [ 0.  0.  0.  0.  0.  0.  0.  0.  0.  1.]\n",
      " [ 0.  0.  1.  0.  0.  0.  0.  0.  0.  0.]\n",
      " [ 0.  1.  0.  0.  0.  0.  0.  0.  0.  0.]\n",
      " [ 0.  0.  0.  1.  0.  0.  0.  0.  0.  0.]\n",
      " [ 0.  1.  0.  0.  0.  0.  0.  0.  0.  0.]\n",
      " [ 0.  0.  0.  0.  1.  0.  0.  0.  0.  0.]]\n",
      "<class 'numpy.ndarray'>\n"
     ]
    }
   ],
   "source": [
    "train_y = normalize(train_y)\n",
    "print(train_y[0:10])\n",
    "test_y = normalize(test_y)\n",
    "print(type(test_y))"
   ]
  },
  {
   "cell_type": "code",
   "execution_count": 650,
   "metadata": {
    "collapsed": true
   },
   "outputs": [],
   "source": [
    "def sigmoid(x):\n",
    "    \n",
    "    return 1/(1 + np.exp(-x))\n",
    "\n",
    "def prime_sigmoid(x):\n",
    "    \n",
    "    return sigmoid(x) * (1 - sigmoid(x))\n",
    "\n",
    "def layer(weights,x,bias):\n",
    "    \n",
    "    return np.add(np.dot(weights,x),bias)\n",
    "    \n",
    "def create_weights(mu,sigma,dimension):\n",
    "    np.random.seed(100)\n",
    "    weights = np.random.normal(mu,sigma,dimension[0]*dimension[1])\n",
    "    return weights.reshape(dimension[0],dimension[1])\n",
    "    \n",
    "def soft_max(x):\n",
    "    \n",
    "    return np.exp(x)/sum(np.exp(x))"
   ]
  },
  {
   "cell_type": "code",
   "execution_count": 651,
   "metadata": {
    "collapsed": false
   },
   "outputs": [],
   "source": [
    "mu = 0.0\n",
    "sigma = 0.1\n",
    "image_d = 784\n",
    "neuron_d = 30\n",
    "neuron_d_output = 10\n",
    "learnrate = 0.1\n",
    "\n",
    "dimension_1 = [neuron_d,image_d]\n",
    "weights_1 = create_weights(mu,sigma,dimension_1)\n",
    "bias_1 = np.zeros(neuron_d)\n",
    "dimension_2 = [neuron_d,neuron_d]\n",
    "weights_2 = create_weights(mu,sigma,dimension_2)\n",
    "bias_2 = np.zeros(neuron_d)\n",
    "\n",
    "dimension_3 = [neuron_d_output,neuron_d]\n",
    "weights_3 = create_weights(mu,sigma,dimension_3)\n",
    "bias_3 = np.zeros(neuron_d_output)"
   ]
  },
  {
   "cell_type": "code",
   "execution_count": 652,
   "metadata": {
    "collapsed": false
   },
   "outputs": [],
   "source": [
    "def forward(x):\n",
    "    \n",
    "    global weights_1\n",
    "    global weights_2\n",
    "    global weights_3\n",
    "    global bias_1\n",
    "    global bias_2\n",
    "    global bias_3\n",
    "    \n",
    "    #forward\n",
    "    layer_1_i = layer(weights_1,x,bias_1)\n",
    "    layer_1_o = sigmoid(layer_1_i)\n",
    "    layer_2_i = layer(weights_2,layer_1_o,bias_2)\n",
    "    layer_2_o = sigmoid(layer_2_i)\n",
    "    layer_3_i = layer(weights_3,layer_2_o,bias_3)\n",
    "    layer_3_o = sigmoid(layer_3_i)\n",
    "    layer_i = np.array([layer_1_i,layer_2_i,layer_3_i])\n",
    "    layer_o = np.array([layer_1_o,layer_2_o,layer_3_o])\n",
    "     \n",
    "    return layer_i,layer_o\n",
    "    \n",
    "\n",
    "def backward(x,y,layer_i,layer_o):\n",
    "    \n",
    "    global weights_1\n",
    "    global weights_2\n",
    "    global weights_3\n",
    "    global bias_1\n",
    "    global bias_2\n",
    "    global bias_3 \n",
    "    \n",
    "    layer_1_i = layer_i[0]\n",
    "    layer_2_i = layer_i[1]\n",
    "    layer_3_i = layer_i[2]\n",
    "    layer_1_o = layer_o[0]\n",
    "    layer_2_o = layer_o[1]\n",
    "    layer_3_o = layer_o[2]\n",
    "    \n",
    "    #backward\n",
    "    loss = np.subtract(y,layer_3_o)\n",
    "    layer_b_3 = np.multiply(loss,prime_sigmoid(layer_3_i))\n",
    "    layer_b_3_w = np.outer(layer_b_3,layer_2_o)\n",
    "\n",
    "    layer_b_2 = np.multiply(np.dot(weights_3.T,layer_b_3),prime_sigmoid(layer_2_i))\n",
    "    layer_b_2_w = np.outer(layer_b_2,layer_1_o)\n",
    "\n",
    "    layer_b_1 = np.multiply(np.dot(weights_2.T,layer_b_2),prime_sigmoid(layer_1_i))\n",
    "    layer_b_1_w = np.outer(layer_b_1,x)\n",
    "    \n",
    "    layer_b_w = np.array([layer_b_3_w,layer_b_2_w,layer_b_1_w])\n",
    "    layer_b = np.array([layer_b_3,layer_b_2,layer_b_1])\n",
    "    \n",
    "    return layer_b_w,layer_b\n",
    "    "
   ]
  },
  {
   "cell_type": "code",
   "execution_count": 654,
   "metadata": {
    "collapsed": false
   },
   "outputs": [
    {
     "name": "stdout",
     "output_type": "stream",
     "text": [
      "batch:0 , loss:724.0607771384301, accuracy:0.9433333333333334\n",
      "batch:1 , loss:684.8786620920783, accuracy:0.9486666666666667\n",
      "batch:2 , loss:753.6815732482686, accuracy:0.9396666666666667\n",
      "batch:3 , loss:690.3820992000715, accuracy:0.9436666666666667\n",
      "batch:4 , loss:782.9222971577949, accuracy:0.9326666666666666\n",
      "batch:5 , loss:732.7297626372763, accuracy:0.9393333333333334\n",
      "batch:6 , loss:634.3788155049654, accuracy:0.9483333333333334\n",
      "batch:7 , loss:655.2368855749353, accuracy:0.9466666666666667\n",
      "batch:8 , loss:679.8646767382265, accuracy:0.9466666666666667\n",
      "batch:9 , loss:717.2956494633773, accuracy:0.9346666666666666\n",
      "batch:10 , loss:741.7040026115449, accuracy:0.9336666666666666\n",
      "batch:11 , loss:630.8693936192756, accuracy:0.9503333333333334\n",
      "batch:12 , loss:681.5082475559383, accuracy:0.9423333333333334\n",
      "batch:13 , loss:693.4715107364764, accuracy:0.943\n",
      "batch:14 , loss:690.0626313725935, accuracy:0.9343333333333333\n",
      "batch:15 , loss:728.0743213477313, accuracy:0.9296666666666666\n",
      "batch:16 , loss:705.9234359800647, accuracy:0.935\n",
      "batch:17 , loss:646.5383900097069, accuracy:0.9423333333333334\n",
      "batch:18 , loss:581.7652662334923, accuracy:0.951\n",
      "batch:19 , loss:485.96988804677403, accuracy:0.9643333333333334\n",
      "batch:0 , loss:557.2225485668441, accuracy:0.955\n",
      "batch:1 , loss:551.8769117614216, accuracy:0.957\n",
      "batch:2 , loss:605.4986437993101, accuracy:0.9486666666666667\n",
      "batch:3 , loss:555.8615420016756, accuracy:0.954\n",
      "batch:4 , loss:636.5323467134133, accuracy:0.9433333333333334\n",
      "batch:5 , loss:588.8006776214359, accuracy:0.9503333333333334\n",
      "batch:6 , loss:520.7986546218445, accuracy:0.955\n",
      "batch:7 , loss:555.1502839152661, accuracy:0.95\n",
      "batch:8 , loss:557.0629042666641, accuracy:0.959\n",
      "batch:9 , loss:589.2928475572572, accuracy:0.944\n",
      "batch:10 , loss:619.6133160725916, accuracy:0.9446666666666667\n",
      "batch:11 , loss:530.990554888637, accuracy:0.9576666666666667\n",
      "batch:12 , loss:567.1249410512157, accuracy:0.9486666666666667\n",
      "batch:13 , loss:567.0758104205081, accuracy:0.9513333333333334\n",
      "batch:14 , loss:577.5915836942095, accuracy:0.947\n",
      "batch:15 , loss:611.4624488887602, accuracy:0.9386666666666666\n",
      "batch:16 , loss:597.261234111227, accuracy:0.9466666666666667\n",
      "batch:17 , loss:539.7096619423335, accuracy:0.95\n",
      "batch:18 , loss:492.2600756331713, accuracy:0.9556666666666667\n",
      "batch:19 , loss:405.97904462005226, accuracy:0.967\n"
     ]
    }
   ],
   "source": [
    "epoches = 2\n",
    "batch_size = 3000\n",
    "batches = int(len(train_X)/batch_size)\n",
    "total = 0\n",
    "\n",
    "for epoch in range(epoches):\n",
    "    for i in range(batches):\n",
    "        loss = 0\n",
    "        accuracy = 0\n",
    "        start = i * batch_size\n",
    "        end = (i+1) * batch_size\n",
    "        for j in range(start,end):\n",
    "            x = train_X[j]\n",
    "            y = train_y[j]\n",
    "            \n",
    "            layer_i,layer_o = forward(x)\n",
    "            layer_b_w,layer_b = backward(x,y,layer_i,layer_o)\n",
    "\n",
    "            weights_3 = np.add(weights_3,learnrate * layer_b_w[0])\n",
    "            weights_2 = np.add(weights_2,learnrate * layer_b_w[1])\n",
    "            weights_1 = np.add(weights_1,learnrate * layer_b_w[2])\n",
    "            bias_3 = np.add(bias_3,learnrate * layer_b[0])\n",
    "            bias_2 = np.add(bias_2,learnrate * layer_b[1])\n",
    "            bias_1 = np.add(bias_1,learnrate * layer_b[2])\n",
    "            \n",
    "            loss += sum(abs(np.subtract(y,layer_o[2])))\n",
    "            accuracy += int(layer_o[2].argmax() == y.argmax())\n",
    "        accuracy = accuracy/batch_size\n",
    "        total += accuracy\n",
    "        print('batch:{} , loss:{}, accuracy:{}'.format(i,loss,accuracy))\n",
    "        \n",
    "        \n",
    "#print('total accuracy:{}'.format(total))"
   ]
  },
  {
   "cell_type": "code",
   "execution_count": 689,
   "metadata": {
    "collapsed": false
   },
   "outputs": [
    {
     "name": "stdout",
     "output_type": "stream",
     "text": [
      "test accuracy:0.9444\n"
     ]
    }
   ],
   "source": [
    "accuracy = 0\n",
    "for i in range(len(test_y)):\n",
    "    _,output = forward(test_X[i])\n",
    "    accuracy += int(output[2].argmax() == test_y[i].argmax())\n",
    "print('test accuracy:{}'.format(float(accuracy/len(test_y))))"
   ]
  },
  {
   "cell_type": "code",
   "execution_count": null,
   "metadata": {
    "collapsed": true
   },
   "outputs": [],
   "source": []
  },
  {
   "cell_type": "code",
   "execution_count": null,
   "metadata": {
    "collapsed": true
   },
   "outputs": [],
   "source": []
  },
  {
   "cell_type": "code",
   "execution_count": null,
   "metadata": {
    "collapsed": true
   },
   "outputs": [],
   "source": []
  }
 ],
 "metadata": {
  "kernelspec": {
   "display_name": "Python 3",
   "language": "python",
   "name": "python3"
  },
  "language_info": {
   "codemirror_mode": {
    "name": "ipython",
    "version": 3
   },
   "file_extension": ".py",
   "mimetype": "text/x-python",
   "name": "python",
   "nbconvert_exporter": "python",
   "pygments_lexer": "ipython3",
   "version": "3.6.0"
  }
 },
 "nbformat": 4,
 "nbformat_minor": 2
}
